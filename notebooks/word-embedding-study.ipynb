{
 "cells": [
  {
   "cell_type": "markdown",
   "metadata": {},
   "source": [
    "Embeddings:\n",
    "* www.nilc.icmc.usp.br/nilc/index.php/repositorio-de-word-embeddings-do-nilc"
   ]
  },
  {
   "cell_type": "markdown",
   "metadata": {},
   "source": [
    "# Import Packages"
   ]
  },
  {
   "cell_type": "code",
   "execution_count": 1,
   "metadata": {
    "collapsed": true
   },
   "outputs": [],
   "source": [
    "from gensim.models.keyedvectors import KeyedVectors\n",
    "\n",
    "import logging\n",
    "\n",
    "# Enable logger\n",
    "logging.basicConfig(format='%(asctime)s : %(levelname)s : %(message)s', level=logging.INFO)"
   ]
  },
  {
   "cell_type": "markdown",
   "metadata": {},
   "source": [
    "# Declare variables"
   ]
  },
  {
   "cell_type": "code",
   "execution_count": 2,
   "metadata": {
    "collapsed": true
   },
   "outputs": [],
   "source": [
    "embeddings_path = \"../datasets/glove_s300.txt\"\n",
    "analogies_test_path = \"../datasets/LX-4WAnalogiesBr.txt\"\n",
    "similarity_test_path = \"../datasets/LX-WordSim-353.txt\""
   ]
  },
  {
   "cell_type": "markdown",
   "metadata": {},
   "source": [
    "# Load data"
   ]
  },
  {
   "cell_type": "code",
   "execution_count": 3,
   "metadata": {},
   "outputs": [
    {
     "name": "stderr",
     "output_type": "stream",
     "text": [
      "2017-12-01 03:15:50,465 : INFO : loading projection weights from ../datasets/glove_s300.txt\n",
      "2017-12-01 03:16:29,979 : INFO : loaded (100000, 300) matrix from ../datasets/glove_s300.txt\n"
     ]
    },
    {
     "name": "stdout",
     "output_type": "stream",
     "text": [
      "CPU times: user 39.4 s, sys: 200 ms, total: 39.6 s\n",
      "Wall time: 39.5 s\n"
     ]
    }
   ],
   "source": [
    "%time embeddings = KeyedVectors.load_word2vec_format(embeddings_path, limit=100000)"
   ]
  },
  {
   "cell_type": "markdown",
   "metadata": {},
   "source": [
    "# Intrinsic evaluation"
   ]
  },
  {
   "cell_type": "code",
   "execution_count": 4,
   "metadata": {},
   "outputs": [
    {
     "name": "stderr",
     "output_type": "stream",
     "text": [
      "2017-12-01 03:16:30,049 : INFO : precomputing L2-norms of word weight vectors\n",
      "2017-12-01 03:16:31,737 : INFO : capital-common-countries: 87.6% (268/306)\n",
      "2017-12-01 03:16:36,556 : INFO : capital-world: 77.0% (718/932)\n",
      "2017-12-01 03:16:37,007 : INFO : currency: 3.5% (3/86)\n",
      "2017-12-01 03:16:40,052 : INFO : city-in-state: 32.3% (191/591)\n",
      "2017-12-01 03:16:41,815 : INFO : family: 67.3% (230/342)\n",
      "2017-12-01 03:16:44,420 : INFO : gram1-adjective-to-adverb: 12.6% (64/506)\n",
      "2017-12-01 03:16:45,367 : INFO : gram2-opposite: 27.5% (50/182)\n",
      "2017-12-01 03:16:45,527 : INFO : gram3-comparative: 56.7% (17/30)\n",
      "2017-12-01 03:16:45,569 : INFO : gram4-superlative: 83.3% (5/6)\n",
      "2017-12-01 03:16:48,910 : INFO : gram5-present-participle: 86.2% (560/650)\n",
      "2017-12-01 03:16:53,951 : INFO : gram6-nationality-adjective: 94.7% (917/968)\n",
      "2017-12-01 03:16:59,058 : INFO : gram7-past-tense: 50.1% (497/992)\n",
      "2017-12-01 03:17:04,138 : INFO : gram8-plural: 58.2% (577/992)\n",
      "2017-12-01 03:17:06,974 : INFO : gram9-plural-verbs: 47.6% (263/552)\n",
      "2017-12-01 03:17:06,976 : INFO : total: 61.1% (4360/7135)\n"
     ]
    },
    {
     "name": "stdout",
     "output_type": "stream",
     "text": [
      "CPU times: user 1min 13s, sys: 452 ms, total: 1min 13s\n",
      "Wall time: 37 s\n"
     ]
    }
   ],
   "source": [
    "%time intrinsic_results = embeddings.accuracy(analogies_test_path)"
   ]
  },
  {
   "cell_type": "code",
   "execution_count": 5,
   "metadata": {},
   "outputs": [
    {
     "name": "stderr",
     "output_type": "stream",
     "text": [
      "2017-12-01 03:17:07,253 : INFO : Pearson correlation coefficient against ../datasets/LX-WordSim-353.txt: 0.4809\n",
      "2017-12-01 03:17:07,254 : INFO : Spearman rank-order correlation coefficient against ../datasets/LX-WordSim-353.txt: 0.4631\n",
      "2017-12-01 03:17:07,257 : INFO : Pairs with unknown words ratio: 2.8%\n"
     ]
    },
    {
     "name": "stdout",
     "output_type": "stream",
     "text": [
      "CPU times: user 356 ms, sys: 16 ms, total: 372 ms\n",
      "Wall time: 279 ms\n"
     ]
    }
   ],
   "source": [
    "%time intrinsic_results_2 = embeddings.evaluate_word_pairs(similarity_test_path)"
   ]
  },
  {
   "cell_type": "markdown",
   "metadata": {},
   "source": [
    "# Visual Evaluation"
   ]
  },
  {
   "cell_type": "markdown",
   "metadata": {},
   "source": [
    "## Most similar words"
   ]
  },
  {
   "cell_type": "markdown",
   "metadata": {},
   "source": [
    "### Country"
   ]
  },
  {
   "cell_type": "code",
   "execution_count": 6,
   "metadata": {},
   "outputs": [
    {
     "data": {
      "text/plain": [
       "[('austrália', 0.7295444011688232),\n",
       " ('zelândia', 0.7236131429672241),\n",
       " ('grã-bretanha', 0.6537486910820007)]"
      ]
     },
     "execution_count": 6,
     "metadata": {},
     "output_type": "execute_result"
    }
   ],
   "source": [
    "embeddings.similar_by_word(\"canadá\", topn=3)"
   ]
  },
  {
   "cell_type": "markdown",
   "metadata": {},
   "source": [
    "### Job"
   ]
  },
  {
   "cell_type": "code",
   "execution_count": 7,
   "metadata": {},
   "outputs": [
    {
     "data": {
      "text/plain": [
       "[('especialista', 0.5496712327003479),\n",
       " ('consultor', 0.530369222164154),\n",
       " ('economista', 0.5302985310554504)]"
      ]
     },
     "execution_count": 7,
     "metadata": {},
     "output_type": "execute_result"
    }
   ],
   "source": [
    "embeddings.similar_by_word(\"analista\", topn=3)"
   ]
  },
  {
   "cell_type": "markdown",
   "metadata": {},
   "source": [
    "### Company"
   ]
  },
  {
   "cell_type": "code",
   "execution_count": 8,
   "metadata": {},
   "outputs": [
    {
     "data": {
      "text/plain": [
       "[('odebrecht', 0.7677455544471741),\n",
       " ('construtora', 0.7101113200187683),\n",
       " ('oas', 0.7029767632484436)]"
      ]
     },
     "execution_count": 8,
     "metadata": {},
     "output_type": "execute_result"
    }
   ],
   "source": [
    "embeddings.similar_by_word(\"empreiteira\", topn=3)"
   ]
  },
  {
   "cell_type": "code",
   "execution_count": 9,
   "metadata": {},
   "outputs": [
    {
     "data": {
      "text/plain": [
       "[('pedreiro', 0.6096227169036865),\n",
       " ('marceneiro', 0.5527135133743286),\n",
       " ('serralheiro', 0.5456693768501282)]"
      ]
     },
     "execution_count": 9,
     "metadata": {},
     "output_type": "execute_result"
    }
   ],
   "source": [
    "embeddings.similar_by_word(\"carpinteiro\", topn=3)"
   ]
  },
  {
   "cell_type": "markdown",
   "metadata": {},
   "source": [
    "### Course"
   ]
  },
  {
   "cell_type": "code",
   "execution_count": 10,
   "metadata": {},
   "outputs": [
    {
     "data": {
      "text/plain": [
       "[('sociologia', 0.7215724587440491),\n",
       " ('pedagogia', 0.6655964255332947),\n",
       " ('filosofia', 0.6611499190330505)]"
      ]
     },
     "execution_count": 10,
     "metadata": {},
     "output_type": "execute_result"
    }
   ],
   "source": [
    "embeddings.similar_by_word(\"psicologia\", topn=3)"
   ]
  },
  {
   "cell_type": "markdown",
   "metadata": {},
   "source": [
    "### Job Hierarchy"
   ]
  },
  {
   "cell_type": "code",
   "execution_count": 11,
   "metadata": {},
   "outputs": [
    {
     "data": {
      "text/plain": [
       "[('coordenador', 0.5576378703117371),\n",
       " ('diretor', 0.5296371579170227),\n",
       " ('gerente', 0.5212496519088745)]"
      ]
     },
     "execution_count": 11,
     "metadata": {},
     "output_type": "execute_result"
    }
   ],
   "source": [
    "embeddings.similar_by_word(\"supervisor\", topn=3)"
   ]
  },
  {
   "cell_type": "code",
   "execution_count": 12,
   "metadata": {},
   "outputs": [
    {
     "data": {
      "text/plain": [
       "[('assistente', 0.4384298324584961),\n",
       " ('funcionário', 0.43782487511634827),\n",
       " ('aprendiz', 0.4022955596446991)]"
      ]
     },
     "execution_count": 12,
     "metadata": {},
     "output_type": "execute_result"
    }
   ],
   "source": [
    "embeddings.similar_by_word(\"estagiário\", topn=3)"
   ]
  },
  {
   "cell_type": "markdown",
   "metadata": {},
   "source": [
    "## Semantic analogies"
   ]
  },
  {
   "cell_type": "markdown",
   "metadata": {},
   "source": [
    "### Gender"
   ]
  },
  {
   "cell_type": "code",
   "execution_count": 13,
   "metadata": {},
   "outputs": [
    {
     "data": {
      "text/plain": [
       "[('rainha', 0.7193284034729004)]"
      ]
     },
     "execution_count": 13,
     "metadata": {},
     "output_type": "execute_result"
    }
   ],
   "source": [
    "embeddings.most_similar(positive=['mulher', 'rei'], negative=['homem'], topn=1)"
   ]
  },
  {
   "cell_type": "markdown",
   "metadata": {},
   "source": [
    "### Country-Capital"
   ]
  },
  {
   "cell_type": "code",
   "execution_count": 14,
   "metadata": {},
   "outputs": [
    {
     "data": {
      "text/plain": [
       "[('londres', 0.6558359861373901), ('toronto', 0.6119667291641235)]"
      ]
     },
     "execution_count": 14,
     "metadata": {},
     "output_type": "execute_result"
    }
   ],
   "source": [
    "embeddings.most_similar(positive=['canadá', 'tóquio'], negative=['japão'], topn=2)"
   ]
  },
  {
   "cell_type": "markdown",
   "metadata": {},
   "source": [
    "### Country-Currency"
   ]
  },
  {
   "cell_type": "code",
   "execution_count": 15,
   "metadata": {},
   "outputs": [
    {
     "data": {
      "text/plain": [
       "[('iene', 0.618338406085968)]"
      ]
     },
     "execution_count": 15,
     "metadata": {},
     "output_type": "execute_result"
    }
   ],
   "source": [
    "embeddings.most_similar(positive=['dólar', 'japão'], negative=['eua'], topn=1)"
   ]
  },
  {
   "cell_type": "markdown",
   "metadata": {},
   "source": [
    "### Composition"
   ]
  },
  {
   "cell_type": "code",
   "execution_count": 16,
   "metadata": {},
   "outputs": [
    {
     "data": {
      "text/plain": [
       "[('torneio', 0.5396567583084106), ('federer', 0.5071016550064087)]"
      ]
     },
     "execution_count": 16,
     "metadata": {},
     "output_type": "execute_result"
    }
   ],
   "source": [
    "embeddings.most_similar(positive=['roger', 'tênis'], topn=2)"
   ]
  },
  {
   "cell_type": "code",
   "execution_count": 17,
   "metadata": {},
   "outputs": [
    {
     "data": {
      "text/plain": [
       "[('cidade', 0.6659485697746277),\n",
       " ('frança', 0.6098123788833618),\n",
       " ('londres', 0.6050515174865723)]"
      ]
     },
     "execution_count": 17,
     "metadata": {},
     "output_type": "execute_result"
    }
   ],
   "source": [
    "embeddings.most_similar(positive=['capital', 'inglaterra'], topn=3)"
   ]
  }
 ],
 "metadata": {
  "kernelspec": {
   "display_name": "Python 3",
   "language": "python",
   "name": "python3"
  },
  "language_info": {
   "codemirror_mode": {
    "name": "ipython",
    "version": 3
   },
   "file_extension": ".py",
   "mimetype": "text/x-python",
   "name": "python",
   "nbconvert_exporter": "python",
   "pygments_lexer": "ipython3",
   "version": "3.6.1"
  }
 },
 "nbformat": 4,
 "nbformat_minor": 2
}
