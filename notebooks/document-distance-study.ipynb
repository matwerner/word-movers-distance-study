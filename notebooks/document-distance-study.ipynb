{
 "cells": [
  {
   "cell_type": "code",
   "execution_count": 1,
   "metadata": {
    "collapsed": true
   },
   "outputs": [],
   "source": [
    "from gensim.corpora.dictionary import Dictionary\n",
    "from gensim.models import TfidfModel\n",
    "from gensim.models.keyedvectors import KeyedVectors\n",
    "from gensim.similarities import WmdSimilarity, MatrixSimilarity\n",
    "from nltk.corpus import stopwords\n",
    "\n",
    "import json\n",
    "import numpy as np\n",
    "import re\n",
    "import string\n",
    "import wmd\n",
    "\n",
    "# Initialize logging.\n",
    "import logging\n",
    "logging.basicConfig(format='%(asctime)s : %(levelname)s : %(message)s')"
   ]
  },
  {
   "cell_type": "markdown",
   "metadata": {},
   "source": [
    "# Declare variables"
   ]
  },
  {
   "cell_type": "code",
   "execution_count": 2,
   "metadata": {
    "collapsed": true
   },
   "outputs": [],
   "source": [
    "articles_path = \"../datasets/ptwiki-20170820-pages-articles-parsed.json\"\n",
    "embeddings_path = \"../datasets/glove_s300.txt\""
   ]
  },
  {
   "cell_type": "markdown",
   "metadata": {},
   "source": [
    "# Preprocessing"
   ]
  },
  {
   "cell_type": "code",
   "execution_count": 3,
   "metadata": {
    "collapsed": true
   },
   "outputs": [],
   "source": [
    "# Remove stopwords.\n",
    "stop_words = stopwords.words('portuguese')\n",
    "\n",
    "# String Ponctuation\n",
    "punctuation = string.punctuation\n",
    "numbers = \"0123456789\"\n",
    "\n",
    "# Regex for removing all non-alphabet letters or spaces\n",
    "regex = re.compile('([' + punctuation + numbers + ']|\\n|\\t)')\n",
    "\n",
    "def preprocessing(document):\n",
    "    # Remove all non-alphabet letters or spaces\n",
    "    processed_document = regex.sub(' ', document)\n",
    "\n",
    "    # Remove extra spaces and lower\n",
    "    processed_document = [token.lower()\n",
    "                          for token in processed_document.split(' ')\n",
    "                          if token and token not in stop_words]\n",
    "    \n",
    "    return processed_document"
   ]
  },
  {
   "cell_type": "markdown",
   "metadata": {},
   "source": [
    "# Get Corpora"
   ]
  },
  {
   "cell_type": "code",
   "execution_count": 4,
   "metadata": {
    "collapsed": true
   },
   "outputs": [],
   "source": [
    "def load_corpora(corpora_path, token_min, corpora_limit):\n",
    "    documents = {}\n",
    "    with open(corpora_path, mode=\"r\", encoding=\"utf-8\") as fp:\n",
    "        for line in fp:\n",
    "            # Parse Json\n",
    "            json_document = json.loads(line)\n",
    "            \n",
    "            # Get information needed\n",
    "            title, text = json_document[\"title\"], json_document[\"text\"]\n",
    "            \n",
    "            # Apply preprocessing\n",
    "            document = preprocessing(text)\n",
    "\n",
    "            # Add\n",
    "            if len(document) >= token_min:\n",
    "                documents[title] = document\n",
    "            if len(documents) >= corpora_limit:\n",
    "                break\n",
    "    return documents"
   ]
  },
  {
   "cell_type": "markdown",
   "metadata": {},
   "source": [
    "# Load data"
   ]
  },
  {
   "cell_type": "markdown",
   "metadata": {},
   "source": [
    "## Articles"
   ]
  },
  {
   "cell_type": "code",
   "execution_count": 5,
   "metadata": {},
   "outputs": [
    {
     "name": "stdout",
     "output_type": "stream",
     "text": [
      "CPU times: user 1min, sys: 596 ms, total: 1min 1s\n",
      "Wall time: 1min 1s\n"
     ]
    }
   ],
   "source": [
    "%time articles = load_corpora(articles_path, 100, 10001)"
   ]
  },
  {
   "cell_type": "markdown",
   "metadata": {},
   "source": [
    "### Mean of words per article"
   ]
  },
  {
   "cell_type": "code",
   "execution_count": 6,
   "metadata": {},
   "outputs": [
    {
     "data": {
      "text/plain": [
       "910.4079592040796"
      ]
     },
     "execution_count": 6,
     "metadata": {},
     "output_type": "execute_result"
    }
   ],
   "source": [
    "sum([len(text) for text in articles.values()])/len(articles)"
   ]
  },
  {
   "cell_type": "markdown",
   "metadata": {},
   "source": [
    "## Embeddings"
   ]
  },
  {
   "cell_type": "code",
   "execution_count": 7,
   "metadata": {},
   "outputs": [
    {
     "name": "stdout",
     "output_type": "stream",
     "text": [
      "CPU times: user 15 s, sys: 108 ms, total: 15.1 s\n",
      "Wall time: 15.1 s\n"
     ]
    }
   ],
   "source": [
    "%time embeddings = KeyedVectors.load_word2vec_format(embeddings_path, limit=30000)"
   ]
  },
  {
   "cell_type": "markdown",
   "metadata": {},
   "source": [
    "# Experiments"
   ]
  },
  {
   "cell_type": "markdown",
   "metadata": {},
   "source": [
    "## Dictionary"
   ]
  },
  {
   "cell_type": "code",
   "execution_count": 8,
   "metadata": {},
   "outputs": [
    {
     "name": "stdout",
     "output_type": "stream",
     "text": [
      "CPU times: user 14.2 s, sys: 52 ms, total: 14.2 s\n",
      "Wall time: 14.2 s\n"
     ]
    }
   ],
   "source": [
    "%time dictionary = Dictionary(articles.values(), prune_at=30000)"
   ]
  },
  {
   "cell_type": "markdown",
   "metadata": {},
   "source": [
    "## BoW"
   ]
  },
  {
   "cell_type": "code",
   "execution_count": 9,
   "metadata": {},
   "outputs": [
    {
     "name": "stdout",
     "output_type": "stream",
     "text": [
      "CPU times: user 9.73 s, sys: 88 ms, total: 9.82 s\n",
      "Wall time: 9.82 s\n"
     ]
    }
   ],
   "source": [
    "%time corpus = [dictionary.doc2bow(text) for text in articles.values()]"
   ]
  },
  {
   "cell_type": "code",
   "execution_count": 10,
   "metadata": {},
   "outputs": [
    {
     "name": "stdout",
     "output_type": "stream",
     "text": [
      "CPU times: user 2.04 s, sys: 24 ms, total: 2.06 s\n",
      "Wall time: 2.06 s\n"
     ]
    }
   ],
   "source": [
    "%time tfidf = TfidfModel(corpus)"
   ]
  },
  {
   "cell_type": "code",
   "execution_count": 11,
   "metadata": {},
   "outputs": [
    {
     "name": "stdout",
     "output_type": "stream",
     "text": [
      "CPU times: user 28.8 s, sys: 652 ms, total: 29.4 s\n",
      "Wall time: 14.9 s\n"
     ]
    }
   ],
   "source": [
    "%time BoW_similarity = MatrixSimilarity(tfidf[corpus], num_features=len(dictionary), num_best=10)"
   ]
  },
  {
   "cell_type": "markdown",
   "metadata": {},
   "source": [
    "## WMD"
   ]
  },
  {
   "cell_type": "markdown",
   "metadata": {
    "collapsed": true
   },
   "source": [
    "instance = WmdSimilarity(processed_articles, embeddings, num_best=10)"
   ]
  },
  {
   "cell_type": "markdown",
   "metadata": {},
   "source": [
    "%time instance[preprocessing(\"maior tenista de todos os tempos\")]"
   ]
  },
  {
   "cell_type": "markdown",
   "metadata": {},
   "source": [
    "### Embedding index"
   ]
  },
  {
   "cell_type": "code",
   "execution_count": 12,
   "metadata": {
    "collapsed": true
   },
   "outputs": [],
   "source": [
    "token2idx = {token:vocab.index\n",
    "             for token, vocab in embeddings.vocab.items()}"
   ]
  },
  {
   "cell_type": "markdown",
   "metadata": {},
   "source": [
    "### Dictionary index to Embedding index"
   ]
  },
  {
   "cell_type": "code",
   "execution_count": 13,
   "metadata": {
    "collapsed": true
   },
   "outputs": [],
   "source": [
    "idx2idx = {dict_idx:token2idx[token]\n",
    "           for dict_idx, token in dictionary.items()\n",
    "           if token in token2idx}"
   ]
  },
  {
   "cell_type": "markdown",
   "metadata": {},
   "source": [
    "### Convert from text to nbow"
   ]
  },
  {
   "cell_type": "code",
   "execution_count": 14,
   "metadata": {
    "collapsed": true
   },
   "outputs": [],
   "source": [
    "def get_nbow(document):\n",
    "    title, text = document\n",
    "    \n",
    "    # Generate BoW\n",
    "    bow = dictionary.doc2bow(text)\n",
    "    \n",
    "    # Convert index from dictionary to index from embedding\n",
    "    bow = {idx2idx[idx]: count\n",
    "            for idx, count in bow\n",
    "            if idx in idx2idx}\n",
    "    \n",
    "    # Get indices\n",
    "    indices = list(bow.keys())\n",
    "    \n",
    "    # Get and normalize frequencies\n",
    "    counters = np.array(list(bow.values()), dtype=np.float32)\n",
    "    counters = counters/counters.sum()\n",
    "    \n",
    "    return (title, (title, indices, counters))"
   ]
  },
  {
   "cell_type": "code",
   "execution_count": 15,
   "metadata": {
    "collapsed": true
   },
   "outputs": [],
   "source": [
    "nbows = dict([get_nbow(article) for article in articles.items()])"
   ]
  },
  {
   "cell_type": "markdown",
   "metadata": {},
   "source": [
    "### Instantiate WMD"
   ]
  },
  {
   "cell_type": "code",
   "execution_count": 16,
   "metadata": {},
   "outputs": [
    {
     "name": "stdout",
     "output_type": "stream",
     "text": [
      "CPU times: user 12 ms, sys: 16 ms, total: 28 ms\n",
      "Wall time: 26.7 ms\n"
     ]
    }
   ],
   "source": [
    "% time WMD_similarity = wmd.WMD(embeddings.syn0, nbows)"
   ]
  },
  {
   "cell_type": "markdown",
   "metadata": {},
   "source": [
    "## Tests BoW x WMD"
   ]
  },
  {
   "cell_type": "markdown",
   "metadata": {},
   "source": [
    "### Some articles available"
   ]
  },
  {
   "cell_type": "code",
   "execution_count": 17,
   "metadata": {
    "collapsed": true
   },
   "outputs": [],
   "source": [
    "titles = list(articles.keys())"
   ]
  },
  {
   "cell_type": "code",
   "execution_count": 18,
   "metadata": {},
   "outputs": [
    {
     "data": {
      "text/plain": [
       "[(0, 'Astronomia'),\n",
       " (1, 'América Latina'),\n",
       " (2, 'Albino Forjaz de Sampaio'),\n",
       " (3, 'Anno Domini'),\n",
       " (4, 'Aquiles'),\n",
       " (5, 'Anarcocapitalismo'),\n",
       " (6, 'Anarquismo'),\n",
       " (7, 'Albert Einstein'),\n",
       " (8, 'Aquecimento global'),\n",
       " (9, 'Adriano'),\n",
       " (10, 'Alexandre (nome)'),\n",
       " (11, 'Afonso, Príncipe de Portugal (1475–1491)'),\n",
       " (12, 'A Ideia Perigosa de Darwin'),\n",
       " (13, 'Agricultura'),\n",
       " (14, 'Afeganistão'),\n",
       " (15, 'História do Afeganistão'),\n",
       " (16, 'Argentina'),\n",
       " (17, 'Algoritmo'),\n",
       " (18, 'Ananás'),\n",
       " (19, 'Angola'),\n",
       " (20, 'Aves'),\n",
       " (21, 'Arara-azul-de-lear'),\n",
       " (22, 'Arara-azul-grande'),\n",
       " (23, 'Ararinha-azul'),\n",
       " (24, 'Alfred Jules Ayer'),\n",
       " (25, 'Antropologia'),\n",
       " (26, 'Arqueologia'),\n",
       " (27, 'Alexandre Rodrigues Ferreira'),\n",
       " (28, 'Aldous Huxley'),\n",
       " (29, 'Anatomia'),\n",
       " (30, 'A Carta da Terra'),\n",
       " (31, 'Arquivo sonoro'),\n",
       " (32, 'Aleksandr Oparin'),\n",
       " (33, 'Amapá'),\n",
       " (34, 'Amazonas'),\n",
       " (35, 'Alagoas'),\n",
       " (36, 'Astrofísica'),\n",
       " (37, 'Azulona'),\n",
       " (38, 'Aristóteles'),\n",
       " (39, 'Lista de aves do Brasil'),\n",
       " (40, 'Albânia'),\n",
       " (41, 'Alemanha'),\n",
       " (42, 'Andorra'),\n",
       " (43, 'Antoine Henri Becquerel'),\n",
       " (44, 'Arménia'),\n",
       " (45, 'Austrália'),\n",
       " (46, 'Arte'),\n",
       " (47, 'Andrew Wiles'),\n",
       " (48, 'Alessandro Algardi'),\n",
       " (49, 'Maria, a Judia')]"
      ]
     },
     "execution_count": 18,
     "metadata": {},
     "output_type": "execute_result"
    }
   ],
   "source": [
    "list(enumerate(titles[:50]))"
   ]
  },
  {
   "cell_type": "markdown",
   "metadata": {},
   "source": [
    "### Astronomia"
   ]
  },
  {
   "cell_type": "markdown",
   "metadata": {},
   "source": [
    "### BoW"
   ]
  },
  {
   "cell_type": "code",
   "execution_count": 19,
   "metadata": {},
   "outputs": [
    {
     "name": "stdout",
     "output_type": "stream",
     "text": [
      "CPU times: user 200 ms, sys: 0 ns, total: 200 ms\n",
      "Wall time: 111 ms\n"
     ]
    },
    {
     "data": {
      "text/plain": [
       "[('Astronomia', 0.99999982118606567),\n",
       " ('Astrometria', 0.41765323281288147),\n",
       " ('Estrela', 0.3328622579574585),\n",
       " ('Galáxia', 0.31383705139160156),\n",
       " ('Sol', 0.31361353397369385),\n",
       " ('Radiação eletromagnética', 0.30375868082046509),\n",
       " ('Cosmologia', 0.29916435480117798),\n",
       " ('Astrofísica', 0.29271420836448669),\n",
       " ('Sistema Solar', 0.28780707716941833),\n",
       " ('Planeta', 0.27009952068328857)]"
      ]
     },
     "execution_count": 19,
     "metadata": {},
     "output_type": "execute_result"
    }
   ],
   "source": [
    "%time sims = BoW_similarity[tfidf[corpus[0]]]\n",
    "[(titles[sim[0]], sim[1]) for sim in sims]"
   ]
  },
  {
   "cell_type": "markdown",
   "metadata": {},
   "source": [
    "### WMD"
   ]
  },
  {
   "cell_type": "code",
   "execution_count": 20,
   "metadata": {},
   "outputs": [
    {
     "name": "stderr",
     "output_type": "stream",
     "text": [
      "2017-12-01 15:35:31,232 : INFO : Vocabulary size: 500 500\n",
      "2017-12-01 15:35:31,240 : INFO : WCD\n",
      "2017-12-01 15:35:35,671 : INFO : 4.4\n",
      "2017-12-01 15:35:35,673 : INFO : First K WMD\n",
      "2017-12-01 15:35:39,240 : INFO : [(-5.517649173736572, 'Ganímedes (satélite)'), (-5.402247428894043, 'Caronte (satélite)'), (-4.901270389556885, 'Netuno (planeta)'), (-5.1248860359191895, 'Planetologia'), (-5.09043025970459, '90377 Sedna'), (-4.854953289031982, 'Saturno (planeta)'), (-4.777352333068848, 'Cosmologia'), (-4.9420671463012695, 'Ceres (planeta anão)'), (-5.051176071166992, 'Astrometria'), (-4.984040260314941, 'Astrofísica')]\n",
      "2017-12-01 15:35:39,242 : INFO : 3.6\n",
      "2017-12-01 15:35:39,244 : INFO : P&P\n",
      "2017-12-01 15:36:39,256 : INFO : 830 0.9373493975903614 5.1815619468688965 [(-4.824405193328857, 'Estrela binária'), (-4.804336071014404, 'Via Láctea'), (-4.804930686950684, 'Galáxia')] ['Estrela', 'Sistema Solar', 'Sol']\n",
      "2017-12-01 15:36:46,073 : INFO : stopped by early_stop condition\n"
     ]
    },
    {
     "name": "stdout",
     "output_type": "stream",
     "text": [
      "CPU times: user 2min 11s, sys: 1.33 s, total: 2min 12s\n",
      "Wall time: 1min 14s\n"
     ]
    },
    {
     "data": {
      "text/plain": [
       "[('Estrela', 4.394160747528076),\n",
       " ('Sol', 4.530681610107422),\n",
       " ('Planeta', 4.708134651184082),\n",
       " ('Mercúrio (planeta)', 4.722616195678711),\n",
       " ('Sistema Solar', 4.776794910430908),\n",
       " ('Cosmologia', 4.777352333068848),\n",
       " ('Universo', 4.778275489807129),\n",
       " ('Via Láctea', 4.804336071014404),\n",
       " ('Galáxia', 4.804930686950684),\n",
       " ('Estrela binária', 4.824405193328857)]"
      ]
     },
     "execution_count": 20,
     "metadata": {},
     "output_type": "execute_result"
    }
   ],
   "source": [
    "%time WMD_similarity.nearest_neighbors(\"Astronomia\", early_stop=0.10)"
   ]
  },
  {
   "cell_type": "code",
   "execution_count": 21,
   "metadata": {},
   "outputs": [
    {
     "name": "stderr",
     "output_type": "stream",
     "text": [
      "2017-12-01 15:36:46,090 : INFO : Vocabulary size: 500 500\n",
      "2017-12-01 15:36:46,092 : INFO : WCD\n",
      "2017-12-01 15:36:50,406 : INFO : 4.3\n",
      "2017-12-01 15:36:50,408 : INFO : First K WMD\n",
      "2017-12-01 15:36:53,860 : INFO : [(-5.517649173736572, 'Ganímedes (satélite)'), (-5.402247428894043, 'Caronte (satélite)'), (-4.901270389556885, 'Netuno (planeta)'), (-5.1248860359191895, 'Planetologia'), (-5.09043025970459, '90377 Sedna'), (-4.854953289031982, 'Saturno (planeta)'), (-4.777352333068848, 'Cosmologia'), (-4.9420671463012695, 'Ceres (planeta anão)'), (-5.051176071166992, 'Astrometria'), (-4.984040260314941, 'Astrofísica')]\n",
      "2017-12-01 15:36:53,861 : INFO : 3.5\n",
      "2017-12-01 15:36:53,862 : INFO : P&P\n",
      "2017-12-01 15:37:13,418 : INFO : stopped by early_stop condition\n"
     ]
    },
    {
     "name": "stdout",
     "output_type": "stream",
     "text": [
      "CPU times: user 42.6 s, sys: 372 ms, total: 43 s\n",
      "Wall time: 27.3 s\n"
     ]
    },
    {
     "data": {
      "text/plain": [
       "[('Estrela', 4.394160747528076),\n",
       " ('Sol', 4.530681610107422),\n",
       " ('Planeta', 4.708134651184082),\n",
       " ('Mercúrio (planeta)', 4.722616195678711),\n",
       " ('Sistema Solar', 4.776794910430908),\n",
       " ('Cosmologia', 4.777352333068848),\n",
       " ('Universo', 4.778275489807129),\n",
       " ('Via Láctea', 4.804336071014404),\n",
       " ('Galáxia', 4.804930686950684),\n",
       " ('Estrela binária', 4.824405193328857)]"
      ]
     },
     "execution_count": 21,
     "metadata": {},
     "output_type": "execute_result"
    }
   ],
   "source": [
    "%time WMD_similarity.nearest_neighbors(\"Astronomia\", early_stop=0.010)"
   ]
  },
  {
   "cell_type": "markdown",
   "metadata": {},
   "source": [
    "### Algoritmos"
   ]
  },
  {
   "cell_type": "markdown",
   "metadata": {},
   "source": [
    "### BoW"
   ]
  },
  {
   "cell_type": "code",
   "execution_count": 23,
   "metadata": {},
   "outputs": [
    {
     "name": "stdout",
     "output_type": "stream",
     "text": [
      "CPU times: user 188 ms, sys: 0 ns, total: 188 ms\n",
      "Wall time: 100 ms\n"
     ]
    },
    {
     "data": {
      "text/plain": [
       "[('Algoritmo', 1.0),\n",
       " ('Algoritmo de Kruskal', 0.4165273904800415),\n",
       " ('Algoritmo de Dijkstra', 0.38106128573417664),\n",
       " ('Algoritmo de Euclides', 0.37403565645217896),\n",
       " ('Quicksort', 0.3235933780670166),\n",
       " ('Programação de computadores', 0.31062531471252441),\n",
       " ('Algoritmo de Ford-Fulkerson', 0.2949603796005249),\n",
       " ('Alonzo Church', 0.27957868576049805),\n",
       " ('Problema do caixeiro-viajante', 0.27397683262825012),\n",
       " ('Heapsort', 0.27035114169120789)]"
      ]
     },
     "execution_count": 23,
     "metadata": {},
     "output_type": "execute_result"
    }
   ],
   "source": [
    "%time sims = BoW_similarity[tfidf[corpus[17]]]\n",
    "[(titles[sim[0]], sim[1]) for sim in sims]"
   ]
  },
  {
   "cell_type": "markdown",
   "metadata": {},
   "source": [
    "### WMD"
   ]
  },
  {
   "cell_type": "code",
   "execution_count": 24,
   "metadata": {},
   "outputs": [
    {
     "name": "stderr",
     "output_type": "stream",
     "text": [
      "2017-12-01 03:04:24,626 : INFO : Vocabulary size: 330 500\n",
      "2017-12-01 03:04:24,628 : INFO : WCD\n",
      "2017-12-01 03:04:28,629 : INFO : 4.0\n",
      "2017-12-01 03:04:28,630 : INFO : First K WMD\n",
      "2017-12-01 03:04:30,980 : INFO : [(-5.190297603607178, 'Lisp'), (-5.142288684844971, 'Computação quântica'), (-5.127190113067627, 'Criptografia'), (-4.930139541625977, 'Teoria da computação'), (-5.0168280601501465, 'Haskell (linguagem de programação)'), (-4.8569769859313965, 'Icon (linguagem de programação)'), (-4.888482093811035, 'Programação de computadores'), (-4.6164984703063965, 'Computador quântico'), (-4.8993449211120605, 'Compilador'), (-4.9773850440979, 'Análise numérica')]\n",
      "2017-12-01 03:04:30,981 : INFO : 2.4\n",
      "2017-12-01 03:04:30,982 : INFO : P&P\n",
      "2017-12-01 03:05:31,598 : INFO : 670 0.7477611940298508 4.993443012237549 [(-4.955425262451172, 'Programa de computador'), (-4.930139541625977, 'Teoria da computação'), (-4.918553829193115, 'Núcleo (sistema operacional)')] ['Computador quântico', 'Compilador', 'Ciência da computação']\n",
      "2017-12-01 03:05:47,027 : INFO : stopped by early_stop condition\n"
     ]
    },
    {
     "name": "stdout",
     "output_type": "stream",
     "text": [
      "CPU times: user 2min 23s, sys: 1.48 s, total: 2min 25s\n",
      "Wall time: 1min 22s\n"
     ]
    },
    {
     "data": {
      "text/plain": [
       "[('Computador quântico', 4.6164984703063965),\n",
       " ('Ciência da computação', 4.795504570007324),\n",
       " ('Inteligência artificial', 4.839584827423096),\n",
       " ('Icon (linguagem de programação)', 4.8569769859313965),\n",
       " ('Programação de computadores', 4.888482093811035),\n",
       " ('Compilador', 4.8993449211120605),\n",
       " ('Núcleo (sistema operacional)', 4.918553829193115),\n",
       " ('Linguagem formal', 4.923614501953125),\n",
       " ('Teoria da computação', 4.930139541625977),\n",
       " ('Programa de computador', 4.955425262451172)]"
      ]
     },
     "execution_count": 24,
     "metadata": {},
     "output_type": "execute_result"
    }
   ],
   "source": [
    "%time WMD_similarity.nearest_neighbors(\"Algoritmo\", early_stop=0.10)"
   ]
  },
  {
   "cell_type": "markdown",
   "metadata": {},
   "source": [
    "### Austrália"
   ]
  },
  {
   "cell_type": "markdown",
   "metadata": {},
   "source": [
    "### BoW"
   ]
  },
  {
   "cell_type": "code",
   "execution_count": 25,
   "metadata": {},
   "outputs": [
    {
     "name": "stdout",
     "output_type": "stream",
     "text": [
      "CPU times: user 220 ms, sys: 0 ns, total: 220 ms\n",
      "Wall time: 112 ms\n"
     ]
    },
    {
     "data": {
      "text/plain": [
       "[('Austrália', 1.0000002384185791),\n",
       " ('Bandeira da Austrália', 0.4579404890537262),\n",
       " ('Oceania', 0.43976134061813354),\n",
       " ('Brisbane', 0.38360887765884399),\n",
       " ('Economia da Austrália', 0.36113718152046204),\n",
       " ('Perth (Austrália Ocidental)', 0.3513389527797699),\n",
       " ('Aborígenes australianos', 0.31155544519424438),\n",
       " ('Nauru', 0.29495945572853088),\n",
       " ('Ilhas Ashmore e Cartier', 0.27670067548751831),\n",
       " ('Melbourne', 0.27420958876609802)]"
      ]
     },
     "execution_count": 25,
     "metadata": {},
     "output_type": "execute_result"
    }
   ],
   "source": [
    "%time sims = BoW_similarity[tfidf[corpus[45]]]\n",
    "[(titles[sim[0]], sim[1]) for sim in sims]"
   ]
  },
  {
   "cell_type": "markdown",
   "metadata": {},
   "source": [
    "### WMD"
   ]
  },
  {
   "cell_type": "code",
   "execution_count": 26,
   "metadata": {},
   "outputs": [
    {
     "name": "stderr",
     "output_type": "stream",
     "text": [
      "2017-12-01 03:05:47,166 : INFO : Vocabulary size: 500 500\n",
      "2017-12-01 03:05:47,167 : INFO : WCD\n",
      "2017-12-01 03:05:51,675 : INFO : 4.5\n",
      "2017-12-01 03:05:51,676 : INFO : First K WMD\n",
      "2017-12-01 03:05:55,433 : INFO : [(-3.952953338623047, 'Tonga'), (-3.677894353866577, 'Filipinas'), (-3.7729878425598145, 'Singapura'), (-3.612440824508667, 'África do Sul'), (-3.6635212898254395, 'Japão'), (-3.4707348346710205, 'Canadá'), (-3.416084051132202, 'Malásia'), (-3.5614395141601562, 'Coreia do Sul'), (-3.2323861122131348, 'Nova Zelândia'), (-3.552936315536499, 'Tailândia')]\n",
      "2017-12-01 03:05:55,434 : INFO : 3.8\n",
      "2017-12-01 03:05:55,435 : INFO : P&P\n",
      "2017-12-01 03:06:55,542 : INFO : 870 0.9551724137931035 4.720662593841553 [(-3.5622050762176514, 'Argentina'), (-3.5614395141601562, 'Coreia do Sul'), (-3.4707348346710205, 'Canadá')] ['Estados Unidos', 'Nova Zelândia', 'México']\n",
      "2017-12-01 03:07:01,293 : INFO : stopped by early_stop condition\n"
     ]
    },
    {
     "name": "stdout",
     "output_type": "stream",
     "text": [
      "CPU times: user 2min 15s, sys: 1.58 s, total: 2min 17s\n",
      "Wall time: 1min 14s\n"
     ]
    },
    {
     "data": {
      "text/plain": [
       "[('Nova Zelândia', 3.2323861122131348),\n",
       " ('Estados Unidos', 3.4053266048431396),\n",
       " ('Malásia', 3.416084051132202),\n",
       " ('Índia', 3.432809352874756),\n",
       " ('Canadá', 3.4707348346710205),\n",
       " ('México', 3.4919443130493164),\n",
       " ('Reino Unido', 3.5022168159484863),\n",
       " ('Tailândia', 3.552936315536499),\n",
       " ('Coreia do Sul', 3.5614395141601562),\n",
       " ('Argentina', 3.5622050762176514)]"
      ]
     },
     "execution_count": 26,
     "metadata": {},
     "output_type": "execute_result"
    }
   ],
   "source": [
    "%time WMD_similarity.nearest_neighbors(\"Austrália\", early_stop=0.10)"
   ]
  },
  {
   "cell_type": "markdown",
   "metadata": {},
   "source": [
    "### Nintendo"
   ]
  },
  {
   "cell_type": "markdown",
   "metadata": {},
   "source": [
    "### BoW"
   ]
  },
  {
   "cell_type": "code",
   "execution_count": 27,
   "metadata": {},
   "outputs": [
    {
     "name": "stdout",
     "output_type": "stream",
     "text": [
      "CPU times: user 184 ms, sys: 0 ns, total: 184 ms\n",
      "Wall time: 90.3 ms\n"
     ]
    },
    {
     "data": {
      "text/plain": [
       "[('Nintendo', 0.99999994039535522),\n",
       " ('Sega', 0.56802898645401001),\n",
       " ('Sega Game Gear', 0.55226325988769531),\n",
       " ('Emulador', 0.45704707503318787),\n",
       " ('Sega Saturn', 0.4535183310508728),\n",
       " ('Dreamcast', 0.4030613899230957),\n",
       " ('Sega Master System', 0.29286766052246094),\n",
       " ('Jogo on-line', 0.23883216083049774),\n",
       " ('Jogo de computador', 0.23267152905464172),\n",
       " ('Darmstádtio', 0.18947595357894897)]"
      ]
     },
     "execution_count": 27,
     "metadata": {},
     "output_type": "execute_result"
    }
   ],
   "source": [
    "%time sims = BoW_similarity[tfidf[corpus[6884]]]\n",
    "[(titles[sim[0]], sim[1]) for sim in sims]"
   ]
  },
  {
   "cell_type": "markdown",
   "metadata": {},
   "source": [
    "### WMD"
   ]
  },
  {
   "cell_type": "code",
   "execution_count": 28,
   "metadata": {},
   "outputs": [
    {
     "name": "stderr",
     "output_type": "stream",
     "text": [
      "2017-12-01 03:07:01,412 : INFO : Vocabulary size: 500 500\n",
      "2017-12-01 03:07:01,413 : INFO : WCD\n",
      "2017-12-01 03:07:05,297 : INFO : 3.9\n",
      "2017-12-01 03:07:05,298 : INFO : First K WMD\n",
      "2017-12-01 03:07:08,159 : INFO : [(-6.0954060554504395, 'AmigaOS'), (-5.48569393157959, 'Berserk (mangá)'), (-5.741476058959961, 'Warcraft II'), (-5.061034679412842, 'Sega Game Gear'), (-5.149575710296631, 'Jogo de computador'), (-4.792379856109619, 'Emulador'), (-4.325271129608154, 'Sega Master System'), (-4.101327419281006, 'Sega Saturn'), (-3.9657070636749268, 'Sega'), (-4.925591468811035, 'Dreamcast')]\n",
      "2017-12-01 03:07:08,160 : INFO : 2.9\n",
      "2017-12-01 03:07:08,161 : INFO : P&P\n",
      "2017-12-01 03:08:08,617 : INFO : 340 0.6617647058823529 6.167176723480225 [(-5.149575710296631, 'Jogo de computador'), (-5.124457836151123, 'Symbian'), (-5.147664546966553, 'Steve Jobs')] ['Sega Saturn', 'Sega', 'Dreamcast']\n",
      "2017-12-01 03:09:04,645 : INFO : stopped by early_stop condition\n"
     ]
    },
    {
     "name": "stdout",
     "output_type": "stream",
     "text": [
      "CPU times: user 3min 18s, sys: 1.6 s, total: 3min 20s\n",
      "Wall time: 2min 3s\n"
     ]
    },
    {
     "data": {
      "text/plain": [
       "[('Sega', 3.9657070636749268),\n",
       " ('Sega Saturn', 4.101327419281006),\n",
       " ('Sega Master System', 4.325271129608154),\n",
       " ('Emulador', 4.792379856109619),\n",
       " ('Dreamcast', 4.925591468811035),\n",
       " ('Computador pessoal', 5.026719570159912),\n",
       " ('Sega Game Gear', 5.061034679412842),\n",
       " ('Symbian', 5.124457836151123),\n",
       " ('Steve Jobs', 5.147664546966553),\n",
       " ('Jogo de computador', 5.149575710296631)]"
      ]
     },
     "execution_count": 28,
     "metadata": {},
     "output_type": "execute_result"
    }
   ],
   "source": [
    "%time WMD_similarity.nearest_neighbors(\"Nintendo\", early_stop=0.10)"
   ]
  },
  {
   "cell_type": "markdown",
   "metadata": {},
   "source": [
    "### Administração"
   ]
  },
  {
   "cell_type": "markdown",
   "metadata": {},
   "source": [
    "### BoW"
   ]
  },
  {
   "cell_type": "code",
   "execution_count": 29,
   "metadata": {},
   "outputs": [
    {
     "name": "stdout",
     "output_type": "stream",
     "text": [
      "CPU times: user 228 ms, sys: 0 ns, total: 228 ms\n",
      "Wall time: 116 ms\n"
     ]
    },
    {
     "data": {
      "text/plain": [
       "[('Administração', 1.0000002384185791),\n",
       " ('Organização', 0.23896037042140961),\n",
       " ('Direito administrativo', 0.21482208371162415),\n",
       " ('Economia', 0.20210880041122437),\n",
       " ('Teoria', 0.19930656254291534),\n",
       " ('Ciência', 0.17526255548000336),\n",
       " ('Objetivo', 0.16347302496433258),\n",
       " ('Max Horkheimer', 0.14986594021320343),\n",
       " ('Sistema de informação', 0.14733175933361053),\n",
       " ('Teoria das cordas', 0.14614959061145782)]"
      ]
     },
     "execution_count": 29,
     "metadata": {},
     "output_type": "execute_result"
    }
   ],
   "source": [
    "%time sims = BoW_similarity[tfidf[corpus[75]]]\n",
    "[(titles[sim[0]], sim[1]) for sim in sims]"
   ]
  },
  {
   "cell_type": "markdown",
   "metadata": {},
   "source": [
    "### WMD"
   ]
  },
  {
   "cell_type": "code",
   "execution_count": 30,
   "metadata": {},
   "outputs": [
    {
     "name": "stderr",
     "output_type": "stream",
     "text": [
      "2017-12-01 03:09:04,820 : INFO : Vocabulary size: 490 500\n",
      "2017-12-01 03:09:04,821 : INFO : WCD\n",
      "2017-12-01 03:09:10,454 : INFO : 5.6\n",
      "2017-12-01 03:09:10,456 : INFO : First K WMD\n",
      "2017-12-01 03:09:14,938 : INFO : [(-5.5233612060546875, 'Invéxis'), (-5.309115886688232, 'Zona de desenvolvimento proximal'), (-5.093391418457031, 'Teletrabalho'), (-5.1121368408203125, 'Inteligência empresarial'), (-5.062416076660156, 'Sistema integrado de gestão empresarial'), (-4.8951897621154785, 'Comunicação'), (-4.942392349243164, 'Logosofia'), (-4.936980724334717, 'Responsabilidade social'), (-4.9502949714660645, 'Seis Sigma'), (-4.99066686630249, 'Organização')]\n",
      "2017-12-01 03:09:14,939 : INFO : 4.5\n",
      "2017-12-01 03:09:14,940 : INFO : P&P\n",
      "2017-12-01 03:10:17,685 : INFO : 220 0.4636363636363636 4.673911094665527 [(-4.936980724334717, 'Responsabilidade social'), (-4.930944919586182, 'Política'), (-4.904395580291748, 'Gestalt')] ['Método científico', 'Arquivística', 'Sistema de informação']\n",
      "2017-12-01 03:11:17,978 : INFO : 590 0.6406779661016949 4.956218719482422 [(-4.930944919586182, 'Política'), (-4.894178867340088, 'Sociologia'), (-4.904395580291748, 'Gestalt')] ['Método científico', 'Arquivística', 'Ciência']\n",
      "2017-12-01 03:11:50,381 : INFO : stopped by early_stop condition\n"
     ]
    },
    {
     "name": "stdout",
     "output_type": "stream",
     "text": [
      "CPU times: user 4min 12s, sys: 2.53 s, total: 4min 14s\n",
      "Wall time: 2min 45s\n"
     ]
    },
    {
     "data": {
      "text/plain": [
       "[('Economia', 4.76804256439209),\n",
       " ('Arquivística', 4.788609504699707),\n",
       " ('Ciência', 4.793127059936523),\n",
       " ('Sistema de informação', 4.858047962188721),\n",
       " ('Método científico', 4.862987518310547),\n",
       " ('Psicologia', 4.871213436126709),\n",
       " ('Sociologia', 4.894178867340088),\n",
       " ('Comunicação', 4.8951897621154785),\n",
       " ('Gestalt', 4.904395580291748),\n",
       " ('Política', 4.930944919586182)]"
      ]
     },
     "execution_count": 30,
     "metadata": {},
     "output_type": "execute_result"
    }
   ],
   "source": [
    "%time WMD_similarity.nearest_neighbors(\"Administração\", early_stop=0.10)"
   ]
  }
 ],
 "metadata": {
  "kernelspec": {
   "display_name": "Python 3",
   "language": "python",
   "name": "python3"
  },
  "language_info": {
   "codemirror_mode": {
    "name": "ipython",
    "version": 3
   },
   "file_extension": ".py",
   "mimetype": "text/x-python",
   "name": "python",
   "nbconvert_exporter": "python",
   "pygments_lexer": "ipython3",
   "version": "3.6.1"
  }
 },
 "nbformat": 4,
 "nbformat_minor": 2
}
